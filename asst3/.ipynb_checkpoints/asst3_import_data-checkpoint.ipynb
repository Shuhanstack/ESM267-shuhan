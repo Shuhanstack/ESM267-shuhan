{
 "cells": [
  {
   "cell_type": "markdown",
   "metadata": {},
   "source": [
    "## Import data into ArcGIS Online account\n",
    "1. load the packages"
   ]
  },
  {
   "cell_type": "code",
   "execution_count": 2,
   "metadata": {},
   "outputs": [],
   "source": [
    "from arcgis.gis import GIS\n",
    "import os"
   ]
  },
  {
   "cell_type": "markdown",
   "metadata": {},
   "source": [
    "2. login to ArcGIS Online"
   ]
  },
  {
   "cell_type": "code",
   "execution_count": 7,
   "metadata": {},
   "outputs": [
    {
     "name": "stdout",
     "output_type": "stream",
     "text": [
      "Please sign in to your GIS and paste the code that is obtained below.\n",
      "If a web browser does not automatically open, please navigate to the URL below yourself instead.\n",
      "Opening web browser to navigate to: https://ucsb.maps.arcgis.com/sharing/rest//oauth2/authorize?response_type=code&client_id=mHerZzTGVKl9kExj&redirect_uri=urn%3Aietf%3Awg%3Aoauth%3A2.0%3Aoob&state=nXHQJRK1L18tQCJHQBybEwOp1SqBXb\n"
     ]
    },
    {
     "name": "stdin",
     "output_type": "stream",
     "text": [
      "Enter code obtained on signing in using SAML:  ························································································································································································································\n"
     ]
    },
    {
     "name": "stderr",
     "output_type": "stream",
     "text": [
      "/Users/songshuhan/miniconda3/envs/arcgis/lib/python3.8/site-packages/urllib3/connectionpool.py:981: InsecureRequestWarning: Unverified HTTPS request is being made to host 'ucsb.maps.arcgis.com'. Adding certificate verification is strongly advised. See: https://urllib3.readthedocs.io/en/latest/advanced-usage.html#ssl-warnings\n",
      "  warnings.warn(\n"
     ]
    }
   ],
   "source": [
    "gis = GIS(\"https://ucsb.maps.arcgis.com\", client_id=\"mHerZzTGVKl9kExj\")"
   ]
  },
  {
   "cell_type": "markdown",
   "metadata": {},
   "source": [
    "3. label the data info and write data directory "
   ]
  },
  {
   "cell_type": "code",
   "execution_count": 17,
   "metadata": {},
   "outputs": [],
   "source": [
    "pig_occurrence = {'title': 'Shuhan - Feral Pig Occurrences 2014',\n",
    "                    'tags': 'wild pig, Dangermond Preserve, occurrence data',\n",
    "                    'type': 'Shapefile'}\n",
    "preserve = {'title': 'Shuhan - JLDP Preserve Boundary',\n",
    "                    'tags': 'Dangermond Preserve, boundary',\n",
    "                    'type': 'Shapefile'}\n",
    "railroad = {'title': 'Shuhan - Railroad through JLDP',\n",
    "           'tags': 'Dangermond Preserve, railroad',\n",
    "           'type': 'Shapefile'}\n",
    "\n",
    "pig_occur_path = os.path.join('.', 'data', '2014_cleaned_feralpig_occurrences.zip')\n",
    "preserve_path = os.path.join('.', 'data', 'jldp_boundary.zip')\n",
    "railroad_path = os.path.join('.', 'data', 'jldp_railroad.zip')"
   ]
  },
  {
   "cell_type": "markdown",
   "metadata": {},
   "source": [
    "4. add and publish the data to ArcGIS Online Content   \n",
    "*Pig Occurrence*"
   ]
  },
  {
   "cell_type": "code",
   "execution_count": 10,
   "metadata": {},
   "outputs": [],
   "source": [
    "pig_shp = gis.content.add(pig_occurrence, data=pig_occur_path)"
   ]
  },
  {
   "cell_type": "code",
   "execution_count": 11,
   "metadata": {},
   "outputs": [
    {
     "data": {
      "text/html": [
       "<div class=\"item_container\" style=\"height: auto; overflow: hidden; border: 1px solid #cfcfcf; border-radius: 2px; background: #f6fafa; line-height: 1.21429em; padding: 10px;\">\n",
       "                    <div class=\"item_left\" style=\"width: 210px; float: left;\">\n",
       "                       <a href='https://ucsb.maps.arcgis.com/home/item.html?id=c7d564f3dca64a4da9158e952a68f591' target='_blank'>\n",
       "                        <img src='http://static.arcgis.com/images/desktopapp.png' class=\"itemThumbnail\">\n",
       "                       </a>\n",
       "                    </div>\n",
       "\n",
       "                    <div class=\"item_right\"     style=\"float: none; width: auto; overflow: hidden;\">\n",
       "                        <a href='https://ucsb.maps.arcgis.com/home/item.html?id=c7d564f3dca64a4da9158e952a68f591' target='_blank'><b>Shuhan - Feral Pig Occurrences 2014</b>\n",
       "                        </a>\n",
       "                        <br/><img src='https://ucsb.maps.arcgis.com/home/js/jsapi/esri/css/images/item_type_icons/featureshosted16.png' style=\"vertical-align:middle;\">Feature Layer Collection by shuhan@umail.ucsb.edu_ucsb\n",
       "                        <br/>Last Modified: December 11, 2020\n",
       "                        <br/>0 comments, 0 views\n",
       "                    </div>\n",
       "                </div>\n",
       "                "
      ],
      "text/plain": [
       "<Item title:\"Shuhan - Feral Pig Occurrences 2014\" type:Feature Layer Collection owner:shuhan@umail.ucsb.edu_ucsb>"
      ]
     },
     "execution_count": 11,
     "metadata": {},
     "output_type": "execute_result"
    }
   ],
   "source": [
    "pig_shp_layer = pig_shp.publish()\n",
    "pig_shp_layer"
   ]
  },
  {
   "cell_type": "code",
   "execution_count": 12,
   "metadata": {},
   "outputs": [
    {
     "data": {
      "text/plain": [
       "{'results': [{'itemId': 'c7d564f3dca64a4da9158e952a68f591',\n",
       "   'success': True,\n",
       "   'notSharedWith': []}]}"
      ]
     },
     "execution_count": 12,
     "metadata": {},
     "output_type": "execute_result"
    }
   ],
   "source": [
    "pig_shp.share(everyone = True)\n",
    "pig_shp_layer.share(everyone = True)"
   ]
  },
  {
   "cell_type": "markdown",
   "metadata": {},
   "source": [
    "*JLDP Preserve boundary*"
   ]
  },
  {
   "cell_type": "code",
   "execution_count": 13,
   "metadata": {},
   "outputs": [],
   "source": [
    "preserve_shp = gis.content.add(preserve, data = preserve_path)"
   ]
  },
  {
   "cell_type": "code",
   "execution_count": 14,
   "metadata": {},
   "outputs": [
    {
     "data": {
      "text/html": [
       "<div class=\"item_container\" style=\"height: auto; overflow: hidden; border: 1px solid #cfcfcf; border-radius: 2px; background: #f6fafa; line-height: 1.21429em; padding: 10px;\">\n",
       "                    <div class=\"item_left\" style=\"width: 210px; float: left;\">\n",
       "                       <a href='https://ucsb.maps.arcgis.com/home/item.html?id=e2b789c018bb49ef8426bcb00e4d95e0' target='_blank'>\n",
       "                        <img src='http://static.arcgis.com/images/desktopapp.png' class=\"itemThumbnail\">\n",
       "                       </a>\n",
       "                    </div>\n",
       "\n",
       "                    <div class=\"item_right\"     style=\"float: none; width: auto; overflow: hidden;\">\n",
       "                        <a href='https://ucsb.maps.arcgis.com/home/item.html?id=e2b789c018bb49ef8426bcb00e4d95e0' target='_blank'><b>Shuhan - JLDP Preserve Boundary</b>\n",
       "                        </a>\n",
       "                        <br/>Boundary of Jack and Laura Dangermond Preserve<img src='https://ucsb.maps.arcgis.com/home/js/jsapi/esri/css/images/item_type_icons/featureshosted16.png' style=\"vertical-align:middle;\">Feature Layer Collection by shuhan@umail.ucsb.edu_ucsb\n",
       "                        <br/>Last Modified: December 11, 2020\n",
       "                        <br/>0 comments, 0 views\n",
       "                    </div>\n",
       "                </div>\n",
       "                "
      ],
      "text/plain": [
       "<Item title:\"Shuhan - JLDP Preserve Boundary\" type:Feature Layer Collection owner:shuhan@umail.ucsb.edu_ucsb>"
      ]
     },
     "execution_count": 14,
     "metadata": {},
     "output_type": "execute_result"
    }
   ],
   "source": [
    "preserve_layer = preserve_shp.publish()\n",
    "preserve_layer"
   ]
  },
  {
   "cell_type": "code",
   "execution_count": 15,
   "metadata": {},
   "outputs": [
    {
     "data": {
      "text/plain": [
       "{'results': [{'itemId': 'e2b789c018bb49ef8426bcb00e4d95e0',\n",
       "   'success': True,\n",
       "   'notSharedWith': []}]}"
      ]
     },
     "execution_count": 15,
     "metadata": {},
     "output_type": "execute_result"
    }
   ],
   "source": [
    "preserve_shp.share(everyone = True)\n",
    "preserve_layer.share(everyone = True)"
   ]
  },
  {
   "cell_type": "markdown",
   "metadata": {},
   "source": [
    "*Railroad*"
   ]
  },
  {
   "cell_type": "code",
   "execution_count": 18,
   "metadata": {},
   "outputs": [],
   "source": [
    "railroad_shp = gis.content.add(railroad, data = railroad_path)"
   ]
  },
  {
   "cell_type": "code",
   "execution_count": 19,
   "metadata": {},
   "outputs": [
    {
     "data": {
      "text/plain": [
       "{'results': [{'itemId': 'a32af4bca69c4679a1f37c5229e203f3',\n",
       "   'success': True,\n",
       "   'notSharedWith': []}]}"
      ]
     },
     "execution_count": 19,
     "metadata": {},
     "output_type": "execute_result"
    }
   ],
   "source": [
    "railroad_layer = railroad_shp.publish()\n",
    "railroad_layer.share(everyone = True)"
   ]
  }
 ],
 "metadata": {
  "kernelspec": {
   "display_name": "Python 3",
   "language": "python",
   "name": "python3"
  },
  "language_info": {
   "codemirror_mode": {
    "name": "ipython",
    "version": 3
   },
   "file_extension": ".py",
   "mimetype": "text/x-python",
   "name": "python",
   "nbconvert_exporter": "python",
   "pygments_lexer": "ipython3",
   "version": "3.8.5"
  }
 },
 "nbformat": 4,
 "nbformat_minor": 4
}
